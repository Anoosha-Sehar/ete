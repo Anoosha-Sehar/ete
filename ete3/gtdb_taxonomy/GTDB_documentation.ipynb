{
 "cells": [
  {
   "cell_type": "markdown",
   "metadata": {},
   "source": [
    "## Upgrading the local database"
   ]
  },
  {
   "cell_type": "code",
   "execution_count": 1,
   "metadata": {},
   "outputs": [],
   "source": [
    "from gtdbquery import GTDBTaxa"
   ]
  },
  {
   "cell_type": "code",
   "execution_count": 2,
   "metadata": {},
   "outputs": [
    {
     "name": "stderr",
     "output_type": "stream",
     "text": [
      "GTDB database not present yet (first time used?)\n"
     ]
    },
    {
     "name": "stdout",
     "output_type": "stream",
     "text": [
      "/home/deng/Projects/ete4/GTDB_demo/ete_gtdb/gtdbdump/gtdbr202dump.tar.gz\n",
      "Loading node names...\n",
      "324355 names loaded.\n",
      "1 synonyms loaded.\n",
      "Loading nodes...\n",
      "324355 nodes loaded.\n",
      "Linking nodes...\n",
      "Tree is loaded.\n",
      "Updating database: /home/deng/Projects/ete4/GTDB_demo/ete_gtdb/.gtdb/gtdbtaxa.sqlite ...\n",
      " 319000 generating entries... "
     ]
    },
    {
     "name": "stderr",
     "output_type": "stream",
     "text": [
      "Inserting taxids:       20000 "
     ]
    },
    {
     "name": "stdout",
     "output_type": "stream",
     "text": [
      " 324000 generating entries... \n",
      "Uploading to /home/deng/Projects/ete4/GTDB_demo/ete_gtdb/.gtdb/gtdbtaxa.sqlite\n",
      "\n"
     ]
    },
    {
     "name": "stderr",
     "output_type": "stream",
     "text": [
      "Inserting taxids:       320000  "
     ]
    },
    {
     "name": "stdout",
     "output_type": "stream",
     "text": [
      "\n"
     ]
    }
   ],
   "source": [
    "dumpfile = \"./gtdbdump/gtdbr202dump.tar.gz\" \n",
    "gtdb = GTDBTaxa()\n",
    "GTDBTaxa().update_taxonomy_database(taxdump_file='./gtdbdump/gtdbr202dump.tar.gz')"
   ]
  },
  {
   "cell_type": "code",
   "execution_count": 15,
   "metadata": {},
   "outputs": [
    {
     "name": "stdout",
     "output_type": "stream",
     "text": [
      "./gtdbdump/gtdbr202dump.tar.gz\n",
      "Loading node names...\n",
      "324355 names loaded.\n",
      "1 synonyms loaded.\n",
      "Loading nodes...\n",
      "324355 nodes loaded.\n",
      "Linking nodes...\n",
      "Tree is loaded.\n",
      "Updating database: /home/deng/Projects/ete4/GTDB_demo/ete_gtdb/.gtdb/gtdbtaxa.sqlite ...\n",
      " 324000 generating entries... \n",
      "Uploading to /home/deng/Projects/ete4/GTDB_demo/ete_gtdb/.gtdb/gtdbtaxa.sqlite\n"
     ]
    },
    {
     "name": "stderr",
     "output_type": "stream",
     "text": [
      "Inserting taxids:       30000 "
     ]
    },
    {
     "name": "stdout",
     "output_type": "stream",
     "text": [
      "\n"
     ]
    },
    {
     "name": "stderr",
     "output_type": "stream",
     "text": [
      "Inserting taxids:       320000 "
     ]
    },
    {
     "name": "stdout",
     "output_type": "stream",
     "text": [
      "\n"
     ]
    }
   ],
   "source": [
    "GTDBTaxa().update_taxonomy_database(taxdump_file='./gtdbdump/gtdbr202dump.tar.gz')"
   ]
  },
  {
   "cell_type": "markdown",
   "metadata": {},
   "source": [
    "### customize dbfile"
   ]
  },
  {
   "cell_type": "code",
   "execution_count": 14,
   "metadata": {},
   "outputs": [],
   "source": [
    "gtdb = GTDBTaxa(dbfile=\"./.gtdb/gtdbtaxa.sqlite\")"
   ]
  },
  {
   "cell_type": "code",
   "execution_count": null,
   "metadata": {},
   "outputs": [],
   "source": []
  },
  {
   "cell_type": "markdown",
   "metadata": {},
   "source": [
    "## Getting taxa information"
   ]
  },
  {
   "cell_type": "markdown",
   "metadata": {},
   "source": [
    "Note that the taxIDs are arbitrarily assigned and don't match anything in the NCBI! Running gtdb_to_taxdump on a different list of taxonomies (e.g., a different GTDB release) will create different taxIDs. "
   ]
  },
  {
   "cell_type": "code",
   "execution_count": 1,
   "metadata": {},
   "outputs": [],
   "source": [
    "#dir(gtdb)"
   ]
  },
  {
   "cell_type": "code",
   "execution_count": 10,
   "metadata": {},
   "outputs": [
    {
     "name": "stdout",
     "output_type": "stream",
     "text": [
      "{'p__Bacteroidota': [139581], 'p__Firmicutes_F': [175734]}\n"
     ]
    }
   ],
   "source": [
    "name2taxid = gtdb.get_name_translator(['p__Bacteroidota', 'p__Firmicutes_F'])\n",
    "print(name2taxid)"
   ]
  },
  {
   "cell_type": "code",
   "execution_count": 11,
   "metadata": {},
   "outputs": [
    {
     "data": {
      "text/plain": [
       "{'g__Methanodesulfokores': [2561]}"
      ]
     },
     "execution_count": 11,
     "metadata": {},
     "output_type": "execute_result"
    }
   ],
   "source": [
    "gtdb.get_name_translator(['g__Methanodesulfokores'])"
   ]
  },
  {
   "cell_type": "code",
   "execution_count": 12,
   "metadata": {},
   "outputs": [
    {
     "name": "stdout",
     "output_type": "stream",
     "text": [
      "[1, 8034, 139581]\n",
      "['root', 'd__Bacteria', 'p__Bacteroidota']\n"
     ]
    }
   ],
   "source": [
    "lineage = gtdb.get_lineage(name2taxid['p__Bacteroidota'][0])\n",
    "print(lineage)\n",
    "\n",
    "\n",
    "names = gtdb.get_taxid_translator(lineage)\n",
    "print([names[taxid] for taxid in lineage])"
   ]
  },
  {
   "cell_type": "code",
   "execution_count": null,
   "metadata": {},
   "outputs": [],
   "source": []
  },
  {
   "cell_type": "markdown",
   "metadata": {},
   "source": [
    "## Getting descendant taxa"
   ]
  },
  {
   "cell_type": "code",
   "execution_count": 17,
   "metadata": {},
   "outputs": [
    {
     "name": "stdout",
     "output_type": "stream",
     "text": [
      "['GB_GCA_011358815.1', 'RS_GCF_000019605.1', 'RS_GCF_003948265.1', 'GB_GCA_003344655.1', 'GB_GCA_011056255.1', 'RS_GCF_003947435.1', 'GB_GCA_004347975.1', 'GB_GCA_004212055.1', 'GB_GCA_011042755.1']\n",
      "['g__Korarchaeum', 's__Korarchaeum cryptofilum', 'GB_GCA_011358815.1', 'RS_GCF_000019605.1', 'RS_GCF_003948265.1', 's__Korarchaeum sp003344655', 'GB_GCA_003344655.1', 's__Korarchaeum sp011056255', 'GB_GCA_011056255.1', 'g__Methanodesulfokores', 's__Methanodesulfokores washburnensis', 'RS_GCF_003947435.1', 'GB_GCA_004347975.1', 'GB_GCA_004212055.1', 'g__DRBY01', 's__DRBY01 sp011042755', 'GB_GCA_011042755.1']\n",
      "['s__Korarchaeum cryptofilum', 's__Korarchaeum sp003344655', 's__Korarchaeum sp011056255', 's__Methanodesulfokores washburnensis', 's__DRBY01 sp011042755']\n",
      "\n",
      "                                                                                 /-s__Korarchaeum cryptofilum, s__Korarchaeum cryptofilum, species\n",
      "                                                                                |\n",
      "                                            /g__Korarchaeum, g__Korarchaeum, genus-s__Korarchaeum sp003344655, s__Korarchaeum sp003344655, species\n",
      "                                           |                                    |\n",
      "                                           |                                     \\-s__Korarchaeum sp011056255, s__Korarchaeum sp011056255, species\n",
      "-f__Korarchaeaceae, f__Korarchaeaceae, family\n",
      "                                           |-g__Methanodesulfokores, g__Methanodesulfokores, genus-s__Methanodesulfokores washburnensis, s__Methanodesulfokores washburnensis, species\n",
      "                                           |\n",
      "                                            \\g__DRBY01, g__DRBY01, genus-s__DRBY01 sp011042755, s__DRBY01 sp011042755, species\n"
     ]
    }
   ],
   "source": [
    "from gtdbquery import GTDBTaxa\n",
    "gtdb = GTDBTaxa()\n",
    "\n",
    "descendants = gtdb.get_descendant_taxa('f__Korarchaeaceae')\n",
    "print(descendants)\n",
    "#['GB_GCA_011358815.1', 'RS_GCF_000019605.1', 'RS_GCF_003948265.1', 'GB_GCA_003344655.1', 'GB_GCA_011056255.1', 'RS_GCF_003947435.1', 'GB_GCA_004347975.1', 'GB_GCA_004212055.1', 'GB_GCA_011042755.1']\n",
    "\n",
    "# you can easily ignore subspecies, so only taxa labeled as \"species\" will be reported:\n",
    "# descendants = gtdb.get_descendant_taxa('f__Korarchaeaceae', intermediate_nodes=True, collapse_subspecies=True, return_tree=True)\n",
    "# print(descendants)\n",
    "\n",
    "descendants = gtdb.get_descendant_taxa('f__Korarchaeaceae', intermediate_nodes=True, collapse_subspecies=False, return_tree=False)\n",
    "print(descendants)\n",
    "\n",
    "descendants = gtdb.get_descendant_taxa('f__Korarchaeaceae', intermediate_nodes=False, collapse_subspecies=True, return_tree=False)\n",
    "print(descendants)\n",
    "\n",
    "# or even returned as an annotated tree\n",
    "tree = gtdb.get_descendant_taxa('f__Korarchaeaceae', collapse_subspecies=True, return_tree=True)\n",
    "print(tree.get_ascii(attributes=['sci_name', 'taxid', 'rank']))"
   ]
  },
  {
   "cell_type": "code",
   "execution_count": null,
   "metadata": {},
   "outputs": [],
   "source": []
  },
  {
   "cell_type": "markdown",
   "metadata": {},
   "source": [
    "## Getting GTDB species tree topology"
   ]
  },
  {
   "cell_type": "code",
   "execution_count": 18,
   "metadata": {},
   "outputs": [
    {
     "name": "stdout",
     "output_type": "stream",
     "text": [
      "\n",
      "                                                       /-p__Huberarchaeota, p__Huberarchaeota, phylum\n",
      "                   /d__Archaea, d__Archaea, superkingdom\n",
      "-root, root, no rank                                   \\p__Thermoproteota, p__Thermoproteota, phylumc__Korarchaeia, c__Korarchaeia, classo__Korarchaeales, o__Korarchaeales, order-f__Korarchaeaceae, f__Korarchaeaceae, family\n",
      "                  |\n",
      "                   \\d__Bacteria, d__Bacteria, superkingdomp__Firmicutes_B, p__Firmicutes_B, phylumc__Peptococcia, c__Peptococcia, class-o__Peptococcales, o__Peptococcales, order\n"
     ]
    }
   ],
   "source": [
    "from gtdbquery import GTDBTaxa\n",
    "gtdb = GTDBTaxa()\n",
    "\n",
    "tree = gtdb.get_topology([\"p__Huberarchaeota\", \"o__Peptococcales\", \"f__Korarchaeaceae\", \"s__Korarchaeum\"], intermediate_nodes=True, collapse_subspecies=True)\n",
    "print(tree.get_ascii(attributes=[\"taxid\",  \"sci_name\", \"rank\"]))"
   ]
  },
  {
   "cell_type": "code",
   "execution_count": 7,
   "metadata": {},
   "outputs": [
    {
     "name": "stdout",
     "output_type": "stream",
     "text": [
      "\n",
      "                                                                                 /-GB_GCA_011358815.1, subspecies\n",
      "                                                                                |\n",
      "                                              /s__Korarchaeum cryptofilum, species-RS_GCF_000019605.1, subspecies\n",
      "                                             |                                  |\n",
      "                                             |                                   \\-RS_GCF_003948265.1, subspecies\n",
      "                         /g__Korarchaeum, genus\n",
      "                        |                    |--GB_GCA_003344655.1, subspecies\n",
      "                        |                    |\n",
      "                        |                     \\-GB_GCA_011056255.1, subspecies\n",
      "                        |\n",
      "-f__Korarchaeaceae, family                                            /-RS_GCF_003947435.1, subspecies\n",
      "                        |                                            |\n",
      "                        |-s__Methanodesulfokores washburnensis, species-GB_GCA_004347975.1, subspecies\n",
      "                        |                                            |\n",
      "                        |                                             \\-GB_GCA_004212055.1, subspecies\n",
      "                        |\n",
      "                         \\-GB_GCA_011042755.1, subspecies\n"
     ]
    }
   ],
   "source": [
    "from gtdbquery import GTDBTaxa\n",
    "gtdb = GTDBTaxa()\n",
    "\n",
    "tree = gtdb.get_topology(['f__Korarchaeaceae'])\n",
    "print(tree.get_ascii(attributes=[\"taxid\", \"rank\"]))"
   ]
  },
  {
   "cell_type": "code",
   "execution_count": 12,
   "metadata": {},
   "outputs": [
    {
     "name": "stdout",
     "output_type": "stream",
     "text": [
      "\n",
      "          /-d__Archaea, d__Archaea\n",
      "-root, root\n",
      "          \\d__Bacteria, d__Bacteriap__Actinobacteriota, p__Actinobacteriotac__UBA4738, c__UBA4738o__UBA4738, o__UBA4738-f__UBA4738, f__UBA4738\n"
     ]
    }
   ],
   "source": [
    "from gtdbquery import GTDBTaxa\n",
    "gtdb = GTDBTaxa()\n",
    "tree = gtdb.get_topology(['d__Archaea', 'f__UBA4738'], intermediate_nodes=True)\n",
    "print(tree.get_ascii(attributes=[\"taxid\", \"sci_name\"]))"
   ]
  },
  {
   "cell_type": "code",
   "execution_count": null,
   "metadata": {},
   "outputs": [],
   "source": []
  },
  {
   "cell_type": "code",
   "execution_count": 9,
   "metadata": {},
   "outputs": [
    {
     "name": "stdout",
     "output_type": "stream",
     "text": [
      "\n",
      "                                                                     /-c__Thorarchaeia, c__Thorarchaeia, c__Thorarchaeia, class\n",
      "                     /p__Asgardarchaeota, , p__Asgardarchaeota, phylum\n",
      "-root, , root, no rank                                               \\-c__Lokiarchaeia_A, c__Lokiarchaeia_A, c__Lokiarchaeia_A, class\n",
      "                    |\n",
      "                     \\-s__Caballeronia udeis, s__Caballeronia udeis, s__Caballeronia udeis, species\n"
     ]
    }
   ],
   "source": [
    "#GTDB demo\n",
    "from ete3 import PhyloTree\n",
    "from gtdbquery import GTDBTaxa\n",
    "gtdb = GTDBTaxa()\n",
    "#tree = PhyloTree('((161839, 163565), 1795);', sp_naming_function=lambda name: name)\n",
    "tree = PhyloTree('((c__Thorarchaeia, c__Lokiarchaeia_A), s__Caballeronia udeis);')\n",
    "#print(tree.get_ascii(attributes=[\"name\", \"sci_name\", \"taxid\"]))\n",
    "tax2name, tax2track, tax2rank = gtdb.annotate_tree(tree, taxid_attr=\"name\")\n",
    "print(tree.get_ascii(attributes=[\"taxid\", \"name\", \"sci_name\", \"rank\"]))"
   ]
  },
  {
   "cell_type": "code",
   "execution_count": null,
   "metadata": {},
   "outputs": [],
   "source": []
  },
  {
   "cell_type": "code",
   "execution_count": null,
   "metadata": {},
   "outputs": [],
   "source": []
  },
  {
   "cell_type": "code",
   "execution_count": null,
   "metadata": {},
   "outputs": [],
   "source": []
  },
  {
   "cell_type": "code",
   "execution_count": null,
   "metadata": {},
   "outputs": [],
   "source": []
  }
 ],
 "metadata": {
  "kernelspec": {
   "display_name": "Python 3",
   "language": "python",
   "name": "python3"
  },
  "language_info": {
   "codemirror_mode": {
    "name": "ipython",
    "version": 3
   },
   "file_extension": ".py",
   "mimetype": "text/x-python",
   "name": "python",
   "nbconvert_exporter": "python",
   "pygments_lexer": "ipython3",
   "version": "3.6.10"
  }
 },
 "nbformat": 4,
 "nbformat_minor": 4
}
